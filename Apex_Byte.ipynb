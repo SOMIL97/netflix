{
  "cells": [
    {
      "cell_type": "markdown",
      "metadata": {
        "id": "view-in-github",
        "colab_type": "text"
      },
      "source": [
        "<a href=\"https://colab.research.google.com/github/SOMIL97/netflix/blob/main/Apex_Byte.ipynb\" target=\"_parent\"><img src=\"https://colab.research.google.com/assets/colab-badge.svg\" alt=\"Open In Colab\"/></a>"
      ]
    },
    {
      "cell_type": "code",
      "execution_count": null,
      "id": "ad39c2e2-f55d-4c23-9d21-e56060067a40",
      "metadata": {
        "id": "ad39c2e2-f55d-4c23-9d21-e56060067a40"
      },
      "outputs": [],
      "source": [
        "import pandas as pd\n",
        "import numpy as np\n",
        "import matplotlib as plt"
      ]
    },
    {
      "cell_type": "code",
      "execution_count": null,
      "id": "7889d150-2fe2-4a21-afcf-e6b9c662a893",
      "metadata": {
        "id": "7889d150-2fe2-4a21-afcf-e6b9c662a893"
      },
      "outputs": [],
      "source": [
        "data=pd.read_csv(\"C:\\\\Users\\\\HP\\\\Downloads\\\\Netflix.csv\")"
      ]
    },
    {
      "cell_type": "markdown",
      "id": "23810f4d-ff61-4b48-94bb-3f8542e88f02",
      "metadata": {
        "id": "23810f4d-ff61-4b48-94bb-3f8542e88f02"
      },
      "source": [
        "1.\tFind to show top-5 records of the dataset."
      ]
    },
    {
      "cell_type": "code",
      "execution_count": null,
      "id": "78a733aa-89ef-4503-b896-d5524358c594",
      "metadata": {
        "id": "78a733aa-89ef-4503-b896-d5524358c594",
        "outputId": "1d657282-fed6-4c9a-fe8c-2bfc289cf23f"
      },
      "outputs": [
        {
          "data": {
            "text/html": [
              "<div>\n",
              "<style scoped>\n",
              "    .dataframe tbody tr th:only-of-type {\n",
              "        vertical-align: middle;\n",
              "    }\n",
              "\n",
              "    .dataframe tbody tr th {\n",
              "        vertical-align: top;\n",
              "    }\n",
              "\n",
              "    .dataframe thead th {\n",
              "        text-align: right;\n",
              "    }\n",
              "</style>\n",
              "<table border=\"1\" class=\"dataframe\">\n",
              "  <thead>\n",
              "    <tr style=\"text-align: right;\">\n",
              "      <th></th>\n",
              "      <th>Show_Id</th>\n",
              "      <th>Category</th>\n",
              "      <th>Title</th>\n",
              "      <th>Director</th>\n",
              "      <th>Cast</th>\n",
              "      <th>Country</th>\n",
              "      <th>Release_Date</th>\n",
              "      <th>Rating</th>\n",
              "      <th>Duration</th>\n",
              "      <th>Type</th>\n",
              "      <th>Description</th>\n",
              "    </tr>\n",
              "  </thead>\n",
              "  <tbody>\n",
              "    <tr>\n",
              "      <th>0</th>\n",
              "      <td>s1</td>\n",
              "      <td>TV Show</td>\n",
              "      <td>3%</td>\n",
              "      <td>NaN</td>\n",
              "      <td>João Miguel, Bianca Comparato, Michel Gomes, R...</td>\n",
              "      <td>Brazil</td>\n",
              "      <td>August 14, 2020</td>\n",
              "      <td>TV-MA</td>\n",
              "      <td>4 Seasons</td>\n",
              "      <td>International TV Shows, TV Dramas, TV Sci-Fi &amp;...</td>\n",
              "      <td>In a future where the elite inhabit an island ...</td>\n",
              "    </tr>\n",
              "    <tr>\n",
              "      <th>1</th>\n",
              "      <td>s2</td>\n",
              "      <td>Movie</td>\n",
              "      <td>07:19</td>\n",
              "      <td>Jorge Michel Grau</td>\n",
              "      <td>Demián Bichir, Héctor Bonilla, Oscar Serrano, ...</td>\n",
              "      <td>Mexico</td>\n",
              "      <td>December 23, 2016</td>\n",
              "      <td>TV-MA</td>\n",
              "      <td>93 min</td>\n",
              "      <td>Dramas, International Movies</td>\n",
              "      <td>After a devastating earthquake hits Mexico Cit...</td>\n",
              "    </tr>\n",
              "    <tr>\n",
              "      <th>2</th>\n",
              "      <td>s3</td>\n",
              "      <td>Movie</td>\n",
              "      <td>23:59</td>\n",
              "      <td>Gilbert Chan</td>\n",
              "      <td>Tedd Chan, Stella Chung, Henley Hii, Lawrence ...</td>\n",
              "      <td>Singapore</td>\n",
              "      <td>December 20, 2018</td>\n",
              "      <td>R</td>\n",
              "      <td>78 min</td>\n",
              "      <td>Horror Movies, International Movies</td>\n",
              "      <td>When an army recruit is found dead, his fellow...</td>\n",
              "    </tr>\n",
              "    <tr>\n",
              "      <th>3</th>\n",
              "      <td>s4</td>\n",
              "      <td>Movie</td>\n",
              "      <td>9</td>\n",
              "      <td>Shane Acker</td>\n",
              "      <td>Elijah Wood, John C. Reilly, Jennifer Connelly...</td>\n",
              "      <td>United States</td>\n",
              "      <td>November 16, 2017</td>\n",
              "      <td>PG-13</td>\n",
              "      <td>80 min</td>\n",
              "      <td>Action &amp; Adventure, Independent Movies, Sci-Fi...</td>\n",
              "      <td>In a postapocalyptic world, rag-doll robots hi...</td>\n",
              "    </tr>\n",
              "    <tr>\n",
              "      <th>4</th>\n",
              "      <td>s5</td>\n",
              "      <td>Movie</td>\n",
              "      <td>21</td>\n",
              "      <td>Robert Luketic</td>\n",
              "      <td>Jim Sturgess, Kevin Spacey, Kate Bosworth, Aar...</td>\n",
              "      <td>United States</td>\n",
              "      <td>January 1, 2020</td>\n",
              "      <td>PG-13</td>\n",
              "      <td>123 min</td>\n",
              "      <td>Dramas</td>\n",
              "      <td>A brilliant group of students become card-coun...</td>\n",
              "    </tr>\n",
              "  </tbody>\n",
              "</table>\n",
              "</div>"
            ],
            "text/plain": [
              "  Show_Id Category  Title           Director  \\\n",
              "0      s1  TV Show     3%                NaN   \n",
              "1      s2    Movie  07:19  Jorge Michel Grau   \n",
              "2      s3    Movie  23:59       Gilbert Chan   \n",
              "3      s4    Movie      9        Shane Acker   \n",
              "4      s5    Movie     21     Robert Luketic   \n",
              "\n",
              "                                                Cast        Country  \\\n",
              "0  João Miguel, Bianca Comparato, Michel Gomes, R...         Brazil   \n",
              "1  Demián Bichir, Héctor Bonilla, Oscar Serrano, ...         Mexico   \n",
              "2  Tedd Chan, Stella Chung, Henley Hii, Lawrence ...      Singapore   \n",
              "3  Elijah Wood, John C. Reilly, Jennifer Connelly...  United States   \n",
              "4  Jim Sturgess, Kevin Spacey, Kate Bosworth, Aar...  United States   \n",
              "\n",
              "        Release_Date Rating   Duration  \\\n",
              "0    August 14, 2020  TV-MA  4 Seasons   \n",
              "1  December 23, 2016  TV-MA     93 min   \n",
              "2  December 20, 2018      R     78 min   \n",
              "3  November 16, 2017  PG-13     80 min   \n",
              "4    January 1, 2020  PG-13    123 min   \n",
              "\n",
              "                                                Type  \\\n",
              "0  International TV Shows, TV Dramas, TV Sci-Fi &...   \n",
              "1                       Dramas, International Movies   \n",
              "2                Horror Movies, International Movies   \n",
              "3  Action & Adventure, Independent Movies, Sci-Fi...   \n",
              "4                                             Dramas   \n",
              "\n",
              "                                         Description  \n",
              "0  In a future where the elite inhabit an island ...  \n",
              "1  After a devastating earthquake hits Mexico Cit...  \n",
              "2  When an army recruit is found dead, his fellow...  \n",
              "3  In a postapocalyptic world, rag-doll robots hi...  \n",
              "4  A brilliant group of students become card-coun...  "
            ]
          },
          "execution_count": 133,
          "metadata": {},
          "output_type": "execute_result"
        }
      ],
      "source": [
        "data.head(5)"
      ]
    },
    {
      "cell_type": "markdown",
      "id": "651a73f9-f2f6-4770-bfb0-925add8e71d4",
      "metadata": {
        "id": "651a73f9-f2f6-4770-bfb0-925add8e71d4"
      },
      "source": [
        "2.\tFind to show bottom-5 records of dataset"
      ]
    },
    {
      "cell_type": "code",
      "execution_count": null,
      "id": "c272bed5-e207-41c9-9668-4194ccc05603",
      "metadata": {
        "id": "c272bed5-e207-41c9-9668-4194ccc05603",
        "outputId": "a8615c9d-c32d-408c-8dde-1212f6551415"
      },
      "outputs": [
        {
          "data": {
            "text/html": [
              "<div>\n",
              "<style scoped>\n",
              "    .dataframe tbody tr th:only-of-type {\n",
              "        vertical-align: middle;\n",
              "    }\n",
              "\n",
              "    .dataframe tbody tr th {\n",
              "        vertical-align: top;\n",
              "    }\n",
              "\n",
              "    .dataframe thead th {\n",
              "        text-align: right;\n",
              "    }\n",
              "</style>\n",
              "<table border=\"1\" class=\"dataframe\">\n",
              "  <thead>\n",
              "    <tr style=\"text-align: right;\">\n",
              "      <th></th>\n",
              "      <th>Show_Id</th>\n",
              "      <th>Category</th>\n",
              "      <th>Title</th>\n",
              "      <th>Director</th>\n",
              "      <th>Cast</th>\n",
              "      <th>Country</th>\n",
              "      <th>Release_Date</th>\n",
              "      <th>Rating</th>\n",
              "      <th>Duration</th>\n",
              "      <th>Type</th>\n",
              "      <th>Description</th>\n",
              "    </tr>\n",
              "  </thead>\n",
              "  <tbody>\n",
              "    <tr>\n",
              "      <th>7784</th>\n",
              "      <td>s7783</td>\n",
              "      <td>Movie</td>\n",
              "      <td>Zozo</td>\n",
              "      <td>Josef Fares</td>\n",
              "      <td>Imad Creidi, Antoinette Turk, Elias Gergi, Car...</td>\n",
              "      <td>Sweden, Czech Republic, United Kingdom, Denmar...</td>\n",
              "      <td>October 19, 2020</td>\n",
              "      <td>TV-MA</td>\n",
              "      <td>99 min</td>\n",
              "      <td>Dramas, International Movies</td>\n",
              "      <td>When Lebanon's Civil War deprives Zozo of his ...</td>\n",
              "    </tr>\n",
              "    <tr>\n",
              "      <th>7785</th>\n",
              "      <td>s7784</td>\n",
              "      <td>Movie</td>\n",
              "      <td>Zubaan</td>\n",
              "      <td>Mozez Singh</td>\n",
              "      <td>Vicky Kaushal, Sarah-Jane Dias, Raaghav Chanan...</td>\n",
              "      <td>India</td>\n",
              "      <td>March 2, 2019</td>\n",
              "      <td>TV-14</td>\n",
              "      <td>111 min</td>\n",
              "      <td>Dramas, International Movies, Music &amp; Musicals</td>\n",
              "      <td>A scrappy but poor boy worms his way into a ty...</td>\n",
              "    </tr>\n",
              "    <tr>\n",
              "      <th>7786</th>\n",
              "      <td>s7785</td>\n",
              "      <td>Movie</td>\n",
              "      <td>Zulu Man in Japan</td>\n",
              "      <td>NaN</td>\n",
              "      <td>Nasty C</td>\n",
              "      <td>NaN</td>\n",
              "      <td>September 25, 2020</td>\n",
              "      <td>TV-MA</td>\n",
              "      <td>44 min</td>\n",
              "      <td>Documentaries, International Movies, Music &amp; M...</td>\n",
              "      <td>In this documentary, South African rapper Nast...</td>\n",
              "    </tr>\n",
              "    <tr>\n",
              "      <th>7787</th>\n",
              "      <td>s7786</td>\n",
              "      <td>TV Show</td>\n",
              "      <td>Zumbo's Just Desserts</td>\n",
              "      <td>NaN</td>\n",
              "      <td>Adriano Zumbo, Rachel Khoo</td>\n",
              "      <td>Australia</td>\n",
              "      <td>October 31, 2020</td>\n",
              "      <td>TV-PG</td>\n",
              "      <td>1 Season</td>\n",
              "      <td>International TV Shows, Reality TV</td>\n",
              "      <td>Dessert wizard Adriano Zumbo looks for the nex...</td>\n",
              "    </tr>\n",
              "    <tr>\n",
              "      <th>7788</th>\n",
              "      <td>s7787</td>\n",
              "      <td>Movie</td>\n",
              "      <td>ZZ TOP: THAT LITTLE OL' BAND FROM TEXAS</td>\n",
              "      <td>Sam Dunn</td>\n",
              "      <td>NaN</td>\n",
              "      <td>United Kingdom, Canada, United States</td>\n",
              "      <td>March 1, 2020</td>\n",
              "      <td>TV-MA</td>\n",
              "      <td>90 min</td>\n",
              "      <td>Documentaries, Music &amp; Musicals</td>\n",
              "      <td>This documentary delves into the mystique behi...</td>\n",
              "    </tr>\n",
              "  </tbody>\n",
              "</table>\n",
              "</div>"
            ],
            "text/plain": [
              "     Show_Id Category                                    Title     Director  \\\n",
              "7784   s7783    Movie                                     Zozo  Josef Fares   \n",
              "7785   s7784    Movie                                   Zubaan  Mozez Singh   \n",
              "7786   s7785    Movie                        Zulu Man in Japan          NaN   \n",
              "7787   s7786  TV Show                    Zumbo's Just Desserts          NaN   \n",
              "7788   s7787    Movie  ZZ TOP: THAT LITTLE OL' BAND FROM TEXAS     Sam Dunn   \n",
              "\n",
              "                                                   Cast  \\\n",
              "7784  Imad Creidi, Antoinette Turk, Elias Gergi, Car...   \n",
              "7785  Vicky Kaushal, Sarah-Jane Dias, Raaghav Chanan...   \n",
              "7786                                            Nasty C   \n",
              "7787                         Adriano Zumbo, Rachel Khoo   \n",
              "7788                                                NaN   \n",
              "\n",
              "                                                Country        Release_Date  \\\n",
              "7784  Sweden, Czech Republic, United Kingdom, Denmar...    October 19, 2020   \n",
              "7785                                              India       March 2, 2019   \n",
              "7786                                                NaN  September 25, 2020   \n",
              "7787                                          Australia    October 31, 2020   \n",
              "7788              United Kingdom, Canada, United States       March 1, 2020   \n",
              "\n",
              "     Rating  Duration                                               Type  \\\n",
              "7784  TV-MA    99 min                       Dramas, International Movies   \n",
              "7785  TV-14   111 min     Dramas, International Movies, Music & Musicals   \n",
              "7786  TV-MA    44 min  Documentaries, International Movies, Music & M...   \n",
              "7787  TV-PG  1 Season                 International TV Shows, Reality TV   \n",
              "7788  TV-MA    90 min                    Documentaries, Music & Musicals   \n",
              "\n",
              "                                            Description  \n",
              "7784  When Lebanon's Civil War deprives Zozo of his ...  \n",
              "7785  A scrappy but poor boy worms his way into a ty...  \n",
              "7786  In this documentary, South African rapper Nast...  \n",
              "7787  Dessert wizard Adriano Zumbo looks for the nex...  \n",
              "7788  This documentary delves into the mystique behi...  "
            ]
          },
          "execution_count": 135,
          "metadata": {},
          "output_type": "execute_result"
        }
      ],
      "source": [
        "data.tail(5)"
      ]
    },
    {
      "cell_type": "markdown",
      "id": "f0cc134d-b55b-416d-a0e9-f78810efa072",
      "metadata": {
        "id": "f0cc134d-b55b-416d-a0e9-f78810efa072"
      },
      "source": [
        "3.\tFind to show the No. of Rows and Columns"
      ]
    },
    {
      "cell_type": "code",
      "execution_count": null,
      "id": "c90593b5-55fc-4731-acc7-26784426e2d0",
      "metadata": {
        "id": "c90593b5-55fc-4731-acc7-26784426e2d0",
        "outputId": "a4c6f3ed-c565-47cf-c57d-3454cd3ea8e8"
      },
      "outputs": [
        {
          "data": {
            "text/plain": [
              "(7789, 11)"
            ]
          },
          "execution_count": 137,
          "metadata": {},
          "output_type": "execute_result"
        }
      ],
      "source": [
        "data.shape"
      ]
    },
    {
      "cell_type": "markdown",
      "id": "8efaa13f-74f8-4c3a-a1b3-082478d48000",
      "metadata": {
        "id": "8efaa13f-74f8-4c3a-a1b3-082478d48000"
      },
      "source": [
        "4.\tFind to show each Column Name."
      ]
    },
    {
      "cell_type": "code",
      "execution_count": null,
      "id": "2ecb357f-3477-4c20-aea2-085f1087a1e4",
      "metadata": {
        "id": "2ecb357f-3477-4c20-aea2-085f1087a1e4",
        "outputId": "74e5dd6e-bcaf-4257-dffb-2127d57fa627"
      },
      "outputs": [
        {
          "data": {
            "text/plain": [
              "Index(['Show_Id', 'Category', 'Title', 'Director', 'Cast', 'Country',\n",
              "       'Release_Date', 'Rating', 'Duration', 'Type', 'Description'],\n",
              "      dtype='object')"
            ]
          },
          "execution_count": 139,
          "metadata": {},
          "output_type": "execute_result"
        }
      ],
      "source": [
        "data.columns"
      ]
    },
    {
      "cell_type": "markdown",
      "id": "1f09cf05-9f19-440d-b271-af938fa8dc9d",
      "metadata": {
        "id": "1f09cf05-9f19-440d-b271-af938fa8dc9d"
      },
      "source": [
        "5.\tFind to show the data-type of each column"
      ]
    },
    {
      "cell_type": "code",
      "execution_count": null,
      "id": "2e8ebc86-c855-44e1-b3c3-9063a8dbba4b",
      "metadata": {
        "id": "2e8ebc86-c855-44e1-b3c3-9063a8dbba4b",
        "outputId": "b182045b-1ae6-48b4-e048-1b4346e3c67b"
      },
      "outputs": [
        {
          "data": {
            "text/plain": [
              "Show_Id         object\n",
              "Category        object\n",
              "Title           object\n",
              "Director        object\n",
              "Cast            object\n",
              "Country         object\n",
              "Release_Date    object\n",
              "Rating          object\n",
              "Duration        object\n",
              "Type            object\n",
              "Description     object\n",
              "dtype: object"
            ]
          },
          "execution_count": 141,
          "metadata": {},
          "output_type": "execute_result"
        }
      ],
      "source": [
        "data.dtypes"
      ]
    },
    {
      "cell_type": "markdown",
      "id": "9dfba970-7444-4dbf-81eb-c022c0d1dfc4",
      "metadata": {
        "id": "9dfba970-7444-4dbf-81eb-c022c0d1dfc4"
      },
      "source": [
        "6.\tFind to show indexes, columns, data-types of each column, memory at once"
      ]
    },
    {
      "cell_type": "code",
      "execution_count": null,
      "id": "e4152bad-8de3-4d25-825b-e3eebdf5570f",
      "metadata": {
        "id": "e4152bad-8de3-4d25-825b-e3eebdf5570f",
        "outputId": "519009be-3a62-4748-cc1e-b374d0b30669"
      },
      "outputs": [
        {
          "name": "stdout",
          "output_type": "stream",
          "text": [
            "<class 'pandas.core.frame.DataFrame'>\n",
            "RangeIndex: 7789 entries, 0 to 7788\n",
            "Data columns (total 11 columns):\n",
            " #   Column        Non-Null Count  Dtype \n",
            "---  ------        --------------  ----- \n",
            " 0   Show_Id       7789 non-null   object\n",
            " 1   Category      7789 non-null   object\n",
            " 2   Title         7789 non-null   object\n",
            " 3   Director      5401 non-null   object\n",
            " 4   Cast          7071 non-null   object\n",
            " 5   Country       7282 non-null   object\n",
            " 6   Release_Date  7779 non-null   object\n",
            " 7   Rating        7782 non-null   object\n",
            " 8   Duration      7789 non-null   object\n",
            " 9   Type          7789 non-null   object\n",
            " 10  Description   7789 non-null   object\n",
            "dtypes: object(11)\n",
            "memory usage: 669.5+ KB\n"
          ]
        }
      ],
      "source": [
        "data.info()"
      ]
    },
    {
      "cell_type": "markdown",
      "id": "c423a7b8-b97b-4069-9105-6d46aee48072",
      "metadata": {
        "id": "c423a7b8-b97b-4069-9105-6d46aee48072"
      },
      "source": [
        "7.\tIs there any Duplicate Record in this dataset? If yes , then remove the Duplicate records."
      ]
    },
    {
      "cell_type": "code",
      "execution_count": null,
      "id": "5098122c-f87d-4fc2-964e-bddc6f6dfa72",
      "metadata": {
        "id": "5098122c-f87d-4fc2-964e-bddc6f6dfa72",
        "outputId": "5266ec6e-2f9d-4d27-c84d-1702c5452819"
      },
      "outputs": [
        {
          "data": {
            "text/plain": [
              "2"
            ]
          },
          "execution_count": 145,
          "metadata": {},
          "output_type": "execute_result"
        }
      ],
      "source": [
        "data.duplicated().sum()"
      ]
    },
    {
      "cell_type": "code",
      "execution_count": null,
      "id": "6d77f2cf-8a19-4690-a788-6026e631f000",
      "metadata": {
        "id": "6d77f2cf-8a19-4690-a788-6026e631f000"
      },
      "outputs": [],
      "source": [
        "data.drop_duplicates(inplace=True,ignore_index=True)"
      ]
    },
    {
      "cell_type": "markdown",
      "id": "7fe9a526-12cf-41ec-ae87-a75acddff9c9",
      "metadata": {
        "id": "7fe9a526-12cf-41ec-ae87-a75acddff9c9"
      },
      "source": [
        "8.\tIs there any Null Value present in any column"
      ]
    },
    {
      "cell_type": "code",
      "execution_count": null,
      "id": "147ef883-4941-4094-8270-59c436d4a51e",
      "metadata": {
        "id": "147ef883-4941-4094-8270-59c436d4a51e",
        "outputId": "251e29f0-dac3-4b46-bd8c-27e35de9a542"
      },
      "outputs": [
        {
          "data": {
            "text/plain": [
              "Show_Id            0\n",
              "Category           0\n",
              "Title              0\n",
              "Director        2388\n",
              "Cast             718\n",
              "Country          507\n",
              "Release_Date      10\n",
              "Rating             7\n",
              "Duration           0\n",
              "Type               0\n",
              "Description        0\n",
              "dtype: int64"
            ]
          },
          "execution_count": 148,
          "metadata": {},
          "output_type": "execute_result"
        }
      ],
      "source": [
        "data.isna().sum()"
      ]
    },
    {
      "cell_type": "markdown",
      "id": "7dd5b3c4-651f-4214-9225-5a6a90fdffb2",
      "metadata": {
        "id": "7dd5b3c4-651f-4214-9225-5a6a90fdffb2"
      },
      "source": [
        "9.\tFor 'House of Cards', what is the Show Id and Who is the Director of this show ?"
      ]
    },
    {
      "cell_type": "code",
      "execution_count": null,
      "id": "d6c4c16c-e068-4a16-abc2-3ebd62c8469d",
      "metadata": {
        "id": "d6c4c16c-e068-4a16-abc2-3ebd62c8469d",
        "outputId": "a64b46ab-fbc6-4af1-8b1e-46fa74ec7b9e"
      },
      "outputs": [
        {
          "data": {
            "text/html": [
              "<div>\n",
              "<style scoped>\n",
              "    .dataframe tbody tr th:only-of-type {\n",
              "        vertical-align: middle;\n",
              "    }\n",
              "\n",
              "    .dataframe tbody tr th {\n",
              "        vertical-align: top;\n",
              "    }\n",
              "\n",
              "    .dataframe thead th {\n",
              "        text-align: right;\n",
              "    }\n",
              "</style>\n",
              "<table border=\"1\" class=\"dataframe\">\n",
              "  <thead>\n",
              "    <tr style=\"text-align: right;\">\n",
              "      <th></th>\n",
              "      <th>Show_Id</th>\n",
              "      <th>Category</th>\n",
              "      <th>Title</th>\n",
              "      <th>Director</th>\n",
              "      <th>Cast</th>\n",
              "      <th>Country</th>\n",
              "      <th>Release_Date</th>\n",
              "      <th>Rating</th>\n",
              "      <th>Duration</th>\n",
              "      <th>Type</th>\n",
              "      <th>Description</th>\n",
              "    </tr>\n",
              "  </thead>\n",
              "  <tbody>\n",
              "    <tr>\n",
              "      <th>2832</th>\n",
              "      <td>s2833</td>\n",
              "      <td>TV Show</td>\n",
              "      <td>House of Cards</td>\n",
              "      <td>Robin Wright, David Fincher, Gerald McRaney, J...</td>\n",
              "      <td>Kevin Spacey, Robin Wright, Kate Mara, Corey S...</td>\n",
              "      <td>United States</td>\n",
              "      <td>November 2, 2018</td>\n",
              "      <td>TV-MA</td>\n",
              "      <td>6 Seasons</td>\n",
              "      <td>TV Dramas, TV Thrillers</td>\n",
              "      <td>A ruthless politician will stop at nothing to ...</td>\n",
              "    </tr>\n",
              "  </tbody>\n",
              "</table>\n",
              "</div>"
            ],
            "text/plain": [
              "     Show_Id Category           Title  \\\n",
              "2832   s2833  TV Show  House of Cards   \n",
              "\n",
              "                                               Director  \\\n",
              "2832  Robin Wright, David Fincher, Gerald McRaney, J...   \n",
              "\n",
              "                                                   Cast        Country  \\\n",
              "2832  Kevin Spacey, Robin Wright, Kate Mara, Corey S...  United States   \n",
              "\n",
              "          Release_Date Rating   Duration                     Type  \\\n",
              "2832  November 2, 2018  TV-MA  6 Seasons  TV Dramas, TV Thrillers   \n",
              "\n",
              "                                            Description  \n",
              "2832  A ruthless politician will stop at nothing to ...  "
            ]
          },
          "execution_count": 150,
          "metadata": {},
          "output_type": "execute_result"
        }
      ],
      "source": [
        "data[data['Title'].isin(['House of Cards'])]"
      ]
    },
    {
      "cell_type": "markdown",
      "id": "d87b22bc-dd00-40ce-8e2f-b8a89948cfe9",
      "metadata": {
        "id": "d87b22bc-dd00-40ce-8e2f-b8a89948cfe9"
      },
      "source": [
        "10.\tIn which year highest number of the TV Shows & Movies were released ? Show with Bar Graph."
      ]
    },
    {
      "cell_type": "code",
      "execution_count": null,
      "id": "8bb395d2-1f38-48a6-9ba4-15eccd2aafb9",
      "metadata": {
        "id": "8bb395d2-1f38-48a6-9ba4-15eccd2aafb9",
        "outputId": "6a8f55b3-a0a3-4b4b-fa18-18e7564417dc"
      },
      "outputs": [
        {
          "name": "stdout",
          "output_type": "stream",
          "text": [
            "<class 'pandas.core.frame.DataFrame'>\n",
            "RangeIndex: 7787 entries, 0 to 7786\n",
            "Data columns (total 11 columns):\n",
            " #   Column        Non-Null Count  Dtype \n",
            "---  ------        --------------  ----- \n",
            " 0   Show_Id       7787 non-null   object\n",
            " 1   Category      7787 non-null   object\n",
            " 2   Title         7787 non-null   object\n",
            " 3   Director      5399 non-null   object\n",
            " 4   Cast          7069 non-null   object\n",
            " 5   Country       7280 non-null   object\n",
            " 6   Release_Date  7777 non-null   object\n",
            " 7   Rating        7780 non-null   object\n",
            " 8   Duration      7787 non-null   object\n",
            " 9   Type          7787 non-null   object\n",
            " 10  Description   7787 non-null   object\n",
            "dtypes: object(11)\n",
            "memory usage: 669.3+ KB\n"
          ]
        }
      ],
      "source": [
        "data.info()"
      ]
    },
    {
      "cell_type": "code",
      "execution_count": null,
      "id": "420a9a61-61fb-4869-bb3a-aed5a24645aa",
      "metadata": {
        "id": "420a9a61-61fb-4869-bb3a-aed5a24645aa"
      },
      "outputs": [],
      "source": [
        "data['Release_year'] = pd.DatetimeIndex(data['Release_Date']).year"
      ]
    },
    {
      "cell_type": "code",
      "execution_count": null,
      "id": "9ca30be8-62a9-4fa3-9f97-3e958d565bdb",
      "metadata": {
        "id": "9ca30be8-62a9-4fa3-9f97-3e958d565bdb",
        "outputId": "393b4497-a6c2-4753-9976-f803a4481fcf"
      },
      "outputs": [
        {
          "data": {
            "text/plain": [
              "<Axes: xlabel='Release_year'>"
            ]
          },
          "execution_count": 154,
          "metadata": {},
          "output_type": "execute_result"
        },
        {
          "data": {
            "image/png": "[encoded data removed]",
            "text/plain": [
              "<Figure size 640x480 with 1 Axes>"
            ]
          },
          "metadata": {},
          "output_type": "display_data"
        }
      ],
      "source": [
        "data.Release_year.value_counts().plot(kind ='bar')"
      ]
    },
    {
      "cell_type": "markdown",
      "id": "abd093db-ff29-4e20-91ff-61cf7c012d67",
      "metadata": {
        "id": "abd093db-ff29-4e20-91ff-61cf7c012d67"
      },
      "source": [
        "In year 2019, highest number of movies and TV shows were released."
      ]
    },
    {
      "cell_type": "markdown",
      "id": "8f1e4658-cc27-48e2-8146-c81881147552",
      "metadata": {
        "id": "8f1e4658-cc27-48e2-8146-c81881147552"
      },
      "source": [
        "11.\tHow many Movies & TV Shows are in the dataset ? Show with Bar Graph"
      ]
    },
    {
      "cell_type": "code",
      "execution_count": null,
      "id": "01f52735-e053-431c-823a-e359f588d6c4",
      "metadata": {
        "id": "01f52735-e053-431c-823a-e359f588d6c4",
        "outputId": "c642f645-68d5-41c4-d067-a0987817cbdd"
      },
      "outputs": [
        {
          "data": {
            "text/plain": [
              "<Axes: xlabel='Category'>"
            ]
          },
          "execution_count": 157,
          "metadata": {},
          "output_type": "execute_result"
        },
        {
          "data": {
            "image/png": "[encoded data removed]",
            "text/plain": [
              "<Figure size 640x480 with 1 Axes>"
            ]
          },
          "metadata": {},
          "output_type": "display_data"
        }
      ],
      "source": [
        "data.Category.value_counts().plot(kind ='bar')"
      ]
    },
    {
      "cell_type": "markdown",
      "id": "dc1dbc4f-86fe-4959-9b64-386aa55a804c",
      "metadata": {
        "id": "dc1dbc4f-86fe-4959-9b64-386aa55a804c"
      },
      "source": [
        "12.\tShow all the Movies that were released in year 2000."
      ]
    },
    {
      "cell_type": "code",
      "execution_count": null,
      "id": "e21e459e-4fce-4b41-9d1c-d141985d8749",
      "metadata": {
        "id": "e21e459e-4fce-4b41-9d1c-d141985d8749",
        "outputId": "da9f33d9-6be4-4f10-90f3-44a7830250b0"
      },
      "outputs": [
        {
          "data": {
            "text/plain": [
              "Series([], Name: Title, dtype: object)"
            ]
          },
          "execution_count": 159,
          "metadata": {},
          "output_type": "execute_result"
        }
      ],
      "source": [
        "data[(data.Category == 'Movie') & (data.Release_year == 2000.0)]['Title']"
      ]
    },
    {
      "cell_type": "code",
      "execution_count": null,
      "id": "635ad2ed-796d-4c4a-824c-576054b94fa2",
      "metadata": {
        "id": "635ad2ed-796d-4c4a-824c-576054b94fa2",
        "outputId": "bbc3f3b5-2e76-4791-cf04-f78d5bb79c54"
      },
      "outputs": [
        {
          "data": {
            "text/html": [
              "<div>\n",
              "<style scoped>\n",
              "    .dataframe tbody tr th:only-of-type {\n",
              "        vertical-align: middle;\n",
              "    }\n",
              "\n",
              "    .dataframe tbody tr th {\n",
              "        vertical-align: top;\n",
              "    }\n",
              "\n",
              "    .dataframe thead th {\n",
              "        text-align: right;\n",
              "    }\n",
              "</style>\n",
              "<table border=\"1\" class=\"dataframe\">\n",
              "  <thead>\n",
              "    <tr style=\"text-align: right;\">\n",
              "      <th></th>\n",
              "      <th>Show_Id</th>\n",
              "      <th>Category</th>\n",
              "      <th>Title</th>\n",
              "      <th>Director</th>\n",
              "      <th>Cast</th>\n",
              "      <th>Country</th>\n",
              "      <th>Release_Date</th>\n",
              "      <th>Rating</th>\n",
              "      <th>Duration</th>\n",
              "      <th>Type</th>\n",
              "      <th>Description</th>\n",
              "      <th>Release_year</th>\n",
              "    </tr>\n",
              "  </thead>\n",
              "  <tbody>\n",
              "  </tbody>\n",
              "</table>\n",
              "</div>"
            ],
            "text/plain": [
              "Empty DataFrame\n",
              "Columns: [Show_Id, Category, Title, Director, Cast, Country, Release_Date, Rating, Duration, Type, Description, Release_year]\n",
              "Index: []"
            ]
          },
          "execution_count": 160,
          "metadata": {},
          "output_type": "execute_result"
        }
      ],
      "source": [
        "data[data.Release_year==2000.0]"
      ]
    },
    {
      "cell_type": "markdown",
      "id": "4c1a5298-ec36-47f4-bfea-0b2e4f0bd1de",
      "metadata": {
        "id": "4c1a5298-ec36-47f4-bfea-0b2e4f0bd1de"
      },
      "source": [
        "There were no movies released in the year 2000."
      ]
    },
    {
      "cell_type": "markdown",
      "id": "97a30868-5a50-4a14-a9b9-f3adbcca4025",
      "metadata": {
        "id": "97a30868-5a50-4a14-a9b9-f3adbcca4025"
      },
      "source": [
        "13.\tShow only the Titles of all TV Shows that were released in India only."
      ]
    },
    {
      "cell_type": "code",
      "execution_count": null,
      "id": "f49008d8-c1ad-4e6f-bf08-e6de898f31d4",
      "metadata": {
        "id": "f49008d8-c1ad-4e6f-bf08-e6de898f31d4",
        "outputId": "74a5c373-b40a-4492-9467-bb60be21c1b0"
      },
      "outputs": [
        {
          "data": {
            "text/plain": [
              "86            21 Sarfarosh: Saragarhi 1897\n",
              "132                              7 (Seven)\n",
              "340                           Agent Raghav\n",
              "364                           Akbar Birbal\n",
              "533                    Anjaan: Rural Myths\n",
              "                       ...                \n",
              "6249                  The Creative Indians\n",
              "6399    The Golden Years with Javed Akhtar\n",
              "6468                The House That Made Me\n",
              "7292                            Typewriter\n",
              "7703                       Yeh Meri Family\n",
              "Name: Title, Length: 71, dtype: object"
            ]
          },
          "execution_count": 163,
          "metadata": {},
          "output_type": "execute_result"
        }
      ],
      "source": [
        "data[(data.Country == 'India') & (data.Category == 'TV Show')]['Title']"
      ]
    },
    {
      "cell_type": "markdown",
      "id": "b5978ee4-4417-4c6c-a671-2caa66942934",
      "metadata": {
        "id": "b5978ee4-4417-4c6c-a671-2caa66942934"
      },
      "source": [
        "14.\tShow Top 10 Directors, who gave the highest number of TV Shows & Movies to Netflix"
      ]
    },
    {
      "cell_type": "code",
      "execution_count": null,
      "id": "4a8d1eaf-b194-4d5e-9e32-6cf909cc53c8",
      "metadata": {
        "id": "4a8d1eaf-b194-4d5e-9e32-6cf909cc53c8",
        "outputId": "1d29d83d-f51b-4897-9c32-ff545717901d"
      },
      "outputs": [
        {
          "data": {
            "text/plain": [
              "Director\n",
              "Raúl Campos, Jan Suter    18\n",
              "Marcus Raboy              16\n",
              "Jay Karas                 14\n",
              "Cathy Garcia-Molina       13\n",
              "Jay Chapman               12\n",
              "Youssef Chahine           12\n",
              "Martin Scorsese           12\n",
              "Steven Spielberg          10\n",
              "David Dhawan               9\n",
              "Hakan Algül                8\n",
              "Name: count, dtype: int64"
            ]
          },
          "execution_count": 165,
          "metadata": {},
          "output_type": "execute_result"
        }
      ],
      "source": [
        "data['Director'].value_counts().head(10)"
      ]
    },
    {
      "cell_type": "markdown",
      "id": "f7c637b9-0a16-4432-80cf-e875451007f9",
      "metadata": {
        "id": "f7c637b9-0a16-4432-80cf-e875451007f9"
      },
      "source": [
        "15.\tShow all the Records, where \"Category is Movie and Type is Comedies\" or \"Country is United Kingdom\""
      ]
    },
    {
      "cell_type": "code",
      "execution_count": null,
      "id": "bb8e51cd-145a-45ad-add1-d885d463fd28",
      "metadata": {
        "id": "bb8e51cd-145a-45ad-add1-d885d463fd28",
        "outputId": "a16f8285-8d1b-42ff-f1ed-b23c03cbcac7"
      },
      "outputs": [
        {
          "data": {
            "text/html": [
              "<div>\n",
              "<style scoped>\n",
              "    .dataframe tbody tr th:only-of-type {\n",
              "        vertical-align: middle;\n",
              "    }\n",
              "\n",
              "    .dataframe tbody tr th {\n",
              "        vertical-align: top;\n",
              "    }\n",
              "\n",
              "    .dataframe thead th {\n",
              "        text-align: right;\n",
              "    }\n",
              "</style>\n",
              "<table border=\"1\" class=\"dataframe\">\n",
              "  <thead>\n",
              "    <tr style=\"text-align: right;\">\n",
              "      <th></th>\n",
              "      <th>Show_Id</th>\n",
              "      <th>Category</th>\n",
              "      <th>Title</th>\n",
              "      <th>Director</th>\n",
              "      <th>Cast</th>\n",
              "      <th>Country</th>\n",
              "      <th>Release_Date</th>\n",
              "      <th>Rating</th>\n",
              "      <th>Duration</th>\n",
              "      <th>Type</th>\n",
              "      <th>Description</th>\n",
              "      <th>Release_year</th>\n",
              "    </tr>\n",
              "  </thead>\n",
              "  <tbody>\n",
              "    <tr>\n",
              "      <th>19</th>\n",
              "      <td>s20</td>\n",
              "      <td>Movie</td>\n",
              "      <td>'89</td>\n",
              "      <td>NaN</td>\n",
              "      <td>Lee Dixon, Ian Wright, Paul Merson</td>\n",
              "      <td>United Kingdom</td>\n",
              "      <td>May 16, 2018</td>\n",
              "      <td>TV-PG</td>\n",
              "      <td>87 min</td>\n",
              "      <td>Sports Movies</td>\n",
              "      <td>Mixing old footage with interviews, this is th...</td>\n",
              "      <td>2018.0</td>\n",
              "    </tr>\n",
              "    <tr>\n",
              "      <th>33</th>\n",
              "      <td>s34</td>\n",
              "      <td>Movie</td>\n",
              "      <td>#realityhigh</td>\n",
              "      <td>Fernando Lebrija</td>\n",
              "      <td>Nesta Cooper, Kate Walsh, John Michael Higgins...</td>\n",
              "      <td>United States</td>\n",
              "      <td>September 8, 2017</td>\n",
              "      <td>TV-14</td>\n",
              "      <td>99 min</td>\n",
              "      <td>Comedies</td>\n",
              "      <td>When nerdy high schooler Dani finally attracts...</td>\n",
              "      <td>2017.0</td>\n",
              "    </tr>\n",
              "    <tr>\n",
              "      <th>58</th>\n",
              "      <td>s59</td>\n",
              "      <td>TV Show</td>\n",
              "      <td>100% Hotter</td>\n",
              "      <td>NaN</td>\n",
              "      <td>Daniel Palmer, Melissa Sophia, Karen Williams,...</td>\n",
              "      <td>United Kingdom</td>\n",
              "      <td>November 1, 2019</td>\n",
              "      <td>TV-14</td>\n",
              "      <td>1 Season</td>\n",
              "      <td>British TV Shows, International TV Shows, Real...</td>\n",
              "      <td>A stylist, a hair designer and a makeup artist...</td>\n",
              "      <td>2019.0</td>\n",
              "    </tr>\n",
              "    <tr>\n",
              "      <th>72</th>\n",
              "      <td>s73</td>\n",
              "      <td>Movie</td>\n",
              "      <td>17 Again</td>\n",
              "      <td>Burr Steers</td>\n",
              "      <td>Zac Efron, Leslie Mann, Matthew Perry, Thomas ...</td>\n",
              "      <td>United States</td>\n",
              "      <td>January 1, 2021</td>\n",
              "      <td>PG-13</td>\n",
              "      <td>102 min</td>\n",
              "      <td>Comedies</td>\n",
              "      <td>Nearing a midlife crisis, thirty-something Mik...</td>\n",
              "      <td>2021.0</td>\n",
              "    </tr>\n",
              "    <tr>\n",
              "      <th>82</th>\n",
              "      <td>s83</td>\n",
              "      <td>Movie</td>\n",
              "      <td>2036 Origin Unknown</td>\n",
              "      <td>Hasraf Dulull</td>\n",
              "      <td>Katee Sackhoff, Ray Fearon, Julie Cox, Steven ...</td>\n",
              "      <td>United Kingdom</td>\n",
              "      <td>December 20, 2018</td>\n",
              "      <td>TV-14</td>\n",
              "      <td>95 min</td>\n",
              "      <td>Sci-Fi &amp; Fantasy</td>\n",
              "      <td>Working with an artificial intelligence to inv...</td>\n",
              "      <td>2018.0</td>\n",
              "    </tr>\n",
              "    <tr>\n",
              "      <th>...</th>\n",
              "      <td>...</td>\n",
              "      <td>...</td>\n",
              "      <td>...</td>\n",
              "      <td>...</td>\n",
              "      <td>...</td>\n",
              "      <td>...</td>\n",
              "      <td>...</td>\n",
              "      <td>...</td>\n",
              "      <td>...</td>\n",
              "      <td>...</td>\n",
              "      <td>...</td>\n",
              "      <td>...</td>\n",
              "    </tr>\n",
              "    <tr>\n",
              "      <th>7668</th>\n",
              "      <td>s7669</td>\n",
              "      <td>TV Show</td>\n",
              "      <td>World War II in Colour</td>\n",
              "      <td>NaN</td>\n",
              "      <td>Robert Powell</td>\n",
              "      <td>United Kingdom</td>\n",
              "      <td>August 1, 2017</td>\n",
              "      <td>TV-MA</td>\n",
              "      <td>1 Season</td>\n",
              "      <td>British TV Shows, Docuseries, International TV...</td>\n",
              "      <td>Footage of the most dramatic moments from Worl...</td>\n",
              "      <td>2017.0</td>\n",
              "    </tr>\n",
              "    <tr>\n",
              "      <th>7669</th>\n",
              "      <td>s7670</td>\n",
              "      <td>TV Show</td>\n",
              "      <td>World's Busiest Cities</td>\n",
              "      <td>NaN</td>\n",
              "      <td>Anita Rani, Ade Adepitan, Dan Snow</td>\n",
              "      <td>United Kingdom</td>\n",
              "      <td>February 1, 2019</td>\n",
              "      <td>TV-PG</td>\n",
              "      <td>1 Season</td>\n",
              "      <td>British TV Shows, Docuseries</td>\n",
              "      <td>From Moscow to Mexico City, three BBC journali...</td>\n",
              "      <td>2019.0</td>\n",
              "    </tr>\n",
              "    <tr>\n",
              "      <th>7686</th>\n",
              "      <td>s7687</td>\n",
              "      <td>Movie</td>\n",
              "      <td>XV: Beyond the Tryline</td>\n",
              "      <td>Pierre Deschamps</td>\n",
              "      <td>NaN</td>\n",
              "      <td>United Kingdom</td>\n",
              "      <td>March 18, 2020</td>\n",
              "      <td>TV-14</td>\n",
              "      <td>91 min</td>\n",
              "      <td>Documentaries, Sports Movies</td>\n",
              "      <td>Set against the 2015 Rugby World Cup, this doc...</td>\n",
              "      <td>2020.0</td>\n",
              "    </tr>\n",
              "    <tr>\n",
              "      <th>7723</th>\n",
              "      <td>s7724</td>\n",
              "      <td>Movie</td>\n",
              "      <td>You Can Tutu</td>\n",
              "      <td>James Brown</td>\n",
              "      <td>Lily O'Regan, Jeannettsy Enriquez Borges, Joel...</td>\n",
              "      <td>United Kingdom</td>\n",
              "      <td>December 31, 2017</td>\n",
              "      <td>TV-G</td>\n",
              "      <td>87 min</td>\n",
              "      <td>Children &amp; Family Movies</td>\n",
              "      <td>A gifted young ballet dancer struggles to find...</td>\n",
              "      <td>2017.0</td>\n",
              "    </tr>\n",
              "    <tr>\n",
              "      <th>7738</th>\n",
              "      <td>s7739</td>\n",
              "      <td>TV Show</td>\n",
              "      <td>Young Wallander</td>\n",
              "      <td>NaN</td>\n",
              "      <td>Adam Pålsson, Richard Dillane, Leanne Best, El...</td>\n",
              "      <td>United Kingdom</td>\n",
              "      <td>September 3, 2020</td>\n",
              "      <td>TV-MA</td>\n",
              "      <td>1 Season</td>\n",
              "      <td>Crime TV Shows, International TV Shows, TV Dramas</td>\n",
              "      <td>An incendiary hate crime stirs civil unrest, f...</td>\n",
              "      <td>2020.0</td>\n",
              "    </tr>\n",
              "  </tbody>\n",
              "</table>\n",
              "<p>485 rows × 12 columns</p>\n",
              "</div>"
            ],
            "text/plain": [
              "     Show_Id Category                   Title          Director  \\\n",
              "19       s20    Movie                     '89               NaN   \n",
              "33       s34    Movie            #realityhigh  Fernando Lebrija   \n",
              "58       s59  TV Show             100% Hotter               NaN   \n",
              "72       s73    Movie                17 Again       Burr Steers   \n",
              "82       s83    Movie     2036 Origin Unknown     Hasraf Dulull   \n",
              "...      ...      ...                     ...               ...   \n",
              "7668   s7669  TV Show  World War II in Colour               NaN   \n",
              "7669   s7670  TV Show  World's Busiest Cities               NaN   \n",
              "7686   s7687    Movie  XV: Beyond the Tryline  Pierre Deschamps   \n",
              "7723   s7724    Movie            You Can Tutu       James Brown   \n",
              "7738   s7739  TV Show         Young Wallander               NaN   \n",
              "\n",
              "                                                   Cast         Country  \\\n",
              "19                   Lee Dixon, Ian Wright, Paul Merson  United Kingdom   \n",
              "33    Nesta Cooper, Kate Walsh, John Michael Higgins...   United States   \n",
              "58    Daniel Palmer, Melissa Sophia, Karen Williams,...  United Kingdom   \n",
              "72    Zac Efron, Leslie Mann, Matthew Perry, Thomas ...   United States   \n",
              "82    Katee Sackhoff, Ray Fearon, Julie Cox, Steven ...  United Kingdom   \n",
              "...                                                 ...             ...   \n",
              "7668                                      Robert Powell  United Kingdom   \n",
              "7669                 Anita Rani, Ade Adepitan, Dan Snow  United Kingdom   \n",
              "7686                                                NaN  United Kingdom   \n",
              "7723  Lily O'Regan, Jeannettsy Enriquez Borges, Joel...  United Kingdom   \n",
              "7738  Adam Pålsson, Richard Dillane, Leanne Best, El...  United Kingdom   \n",
              "\n",
              "           Release_Date Rating  Duration  \\\n",
              "19         May 16, 2018  TV-PG    87 min   \n",
              "33    September 8, 2017  TV-14    99 min   \n",
              "58     November 1, 2019  TV-14  1 Season   \n",
              "72      January 1, 2021  PG-13   102 min   \n",
              "82    December 20, 2018  TV-14    95 min   \n",
              "...                 ...    ...       ...   \n",
              "7668     August 1, 2017  TV-MA  1 Season   \n",
              "7669   February 1, 2019  TV-PG  1 Season   \n",
              "7686     March 18, 2020  TV-14    91 min   \n",
              "7723  December 31, 2017   TV-G    87 min   \n",
              "7738  September 3, 2020  TV-MA  1 Season   \n",
              "\n",
              "                                                   Type  \\\n",
              "19                                        Sports Movies   \n",
              "33                                             Comedies   \n",
              "58    British TV Shows, International TV Shows, Real...   \n",
              "72                                             Comedies   \n",
              "82                                     Sci-Fi & Fantasy   \n",
              "...                                                 ...   \n",
              "7668  British TV Shows, Docuseries, International TV...   \n",
              "7669                       British TV Shows, Docuseries   \n",
              "7686                       Documentaries, Sports Movies   \n",
              "7723                           Children & Family Movies   \n",
              "7738  Crime TV Shows, International TV Shows, TV Dramas   \n",
              "\n",
              "                                            Description  Release_year  \n",
              "19    Mixing old footage with interviews, this is th...        2018.0  \n",
              "33    When nerdy high schooler Dani finally attracts...        2017.0  \n",
              "58    A stylist, a hair designer and a makeup artist...        2019.0  \n",
              "72    Nearing a midlife crisis, thirty-something Mik...        2021.0  \n",
              "82    Working with an artificial intelligence to inv...        2018.0  \n",
              "...                                                 ...           ...  \n",
              "7668  Footage of the most dramatic moments from Worl...        2017.0  \n",
              "7669  From Moscow to Mexico City, three BBC journali...        2019.0  \n",
              "7686  Set against the 2015 Rugby World Cup, this doc...        2020.0  \n",
              "7723  A gifted young ballet dancer struggles to find...        2017.0  \n",
              "7738  An incendiary hate crime stirs civil unrest, f...        2020.0  \n",
              "\n",
              "[485 rows x 12 columns]"
            ]
          },
          "execution_count": 167,
          "metadata": {},
          "output_type": "execute_result"
        }
      ],
      "source": [
        "data[(data.Category=='Movie') & (data.Type=='Comedies')|(data.Country=='United Kingdom')]"
      ]
    },
    {
      "cell_type": "markdown",
      "id": "a356654a-b11f-4ea1-9bcd-774967c89f1d",
      "metadata": {
        "id": "a356654a-b11f-4ea1-9bcd-774967c89f1d"
      },
      "source": [
        "16.\tIn how many movies/shows, Tom Cruise was cast?"
      ]
    },
    {
      "cell_type": "code",
      "execution_count": null,
      "id": "a454d848-6145-4907-a854-e92d402918a3",
      "metadata": {
        "id": "a454d848-6145-4907-a854-e92d402918a3",
        "outputId": "9fe2f7b4-3a22-47cc-c41b-d3648d4a482a"
      },
      "outputs": [
        {
          "data": {
            "text/plain": [
              "2"
            ]
          },
          "execution_count": 195,
          "metadata": {},
          "output_type": "execute_result"
        }
      ],
      "source": [
        "df = data.dropna()\n",
        "df[df.Cast.str.contains('Tom Cruise')]['Title'].value_counts().sum()"
      ]
    },
    {
      "cell_type": "markdown",
      "id": "c7bd19b9-4dd0-41cb-88e6-5f0f44883dc1",
      "metadata": {
        "id": "c7bd19b9-4dd0-41cb-88e6-5f0f44883dc1"
      },
      "source": [
        "17.\tWhat are the different Ratings defined by Netflix ?"
      ]
    },
    {
      "cell_type": "code",
      "execution_count": null,
      "id": "bd6936e4-0bba-4341-8907-c96eac1948c5",
      "metadata": {
        "id": "bd6936e4-0bba-4341-8907-c96eac1948c5",
        "outputId": "c0e03757-d27e-44dc-953b-ddc0eadbce5b"
      },
      "outputs": [
        {
          "data": {
            "text/plain": [
              "array(['TV-MA', 'R', 'PG-13', 'TV-14', 'TV-PG', 'NR', 'TV-G', 'TV-Y', nan,\n",
              "       'TV-Y7', 'PG', 'G', 'NC-17', 'TV-Y7-FV', 'UR'], dtype=object)"
            ]
          },
          "execution_count": 217,
          "metadata": {},
          "output_type": "execute_result"
        }
      ],
      "source": [
        "data.Rating.unique()"
      ]
    },
    {
      "cell_type": "markdown",
      "id": "a48b402c-59eb-4f69-8cbd-d5dc39e992b2",
      "metadata": {
        "id": "a48b402c-59eb-4f69-8cbd-d5dc39e992b2"
      },
      "source": [
        "18.\tHow many Movies got the 'TV-14' rating, in Canada?"
      ]
    },
    {
      "cell_type": "code",
      "execution_count": null,
      "id": "46950821-9450-4d35-87ea-ea9884ed8a8c",
      "metadata": {
        "id": "46950821-9450-4d35-87ea-ea9884ed8a8c",
        "outputId": "0261ebcf-97c7-479c-8333-eca2fe068e3b"
      },
      "outputs": [
        {
          "data": {
            "text/plain": [
              "11"
            ]
          },
          "execution_count": 219,
          "metadata": {},
          "output_type": "execute_result"
        }
      ],
      "source": [
        "data[(data.Category == 'Movie')& (data.Rating == 'TV-14')&(data.Country == 'Canada')].shape[0]"
      ]
    },
    {
      "cell_type": "markdown",
      "id": "466bc0b9-d23c-4bee-9bc3-60e666e480ea",
      "metadata": {
        "id": "466bc0b9-d23c-4bee-9bc3-60e666e480ea"
      },
      "source": [
        "19.\tHow many TV Show got the 'R' rating, after year 2018?"
      ]
    },
    {
      "cell_type": "code",
      "execution_count": null,
      "id": "5e6321b6-1a26-4032-b338-c4c1db432df3",
      "metadata": {
        "id": "5e6321b6-1a26-4032-b338-c4c1db432df3",
        "outputId": "eeca6028-84bb-4742-f880-9142f2df856c"
      },
      "outputs": [
        {
          "data": {
            "text/plain": [
              "1"
            ]
          },
          "execution_count": 221,
          "metadata": {},
          "output_type": "execute_result"
        }
      ],
      "source": [
        "data[(data.Category == 'TV Show') & (data.Rating == 'R') &(data.Release_year >2018)].shape[0]"
      ]
    },
    {
      "cell_type": "markdown",
      "id": "5a60f872-bd3f-4bf5-bd98-da3dc4df0cca",
      "metadata": {
        "id": "5a60f872-bd3f-4bf5-bd98-da3dc4df0cca"
      },
      "source": [
        "20.\tWhat is the maximum duration of a Movie/Show on Netflix ?"
      ]
    },
    {
      "cell_type": "code",
      "execution_count": null,
      "id": "54a83bd9-6dd4-461f-ad1f-b70be6931391",
      "metadata": {
        "id": "54a83bd9-6dd4-461f-ad1f-b70be6931391",
        "outputId": "160fd3f6-4fa6-4f70-a98e-3ba6fca7e012"
      },
      "outputs": [
        {
          "data": {
            "text/plain": [
              "array(['4 Seasons', '93 min', '78 min', '80 min', '123 min', '1 Season',\n",
              "       '95 min', '119 min', '118 min', '143 min', '103 min', '89 min',\n",
              "       '91 min', '149 min', '144 min', '124 min', '87 min', '110 min',\n",
              "       '128 min', '117 min', '100 min', '2 Seasons', '84 min', '99 min',\n",
              "       '90 min', '102 min', '104 min', '105 min', '56 min', '125 min',\n",
              "       '81 min', '97 min', '106 min', '107 min', '109 min', '44 min',\n",
              "       '75 min', '101 min', '3 Seasons', '37 min', '113 min', '114 min',\n",
              "       '130 min', '94 min', '140 min', '135 min', '82 min', '70 min',\n",
              "       '121 min', '92 min', '164 min', '53 min', '83 min', '116 min',\n",
              "       '86 min', '120 min', '96 min', '126 min', '129 min', '77 min',\n",
              "       '137 min', '148 min', '28 min', '122 min', '176 min', '85 min',\n",
              "       '22 min', '68 min', '111 min', '29 min', '142 min', '168 min',\n",
              "       '21 min', '59 min', '20 min', '98 min', '108 min', '76 min',\n",
              "       '26 min', '156 min', '30 min', '57 min', '150 min', '133 min',\n",
              "       '115 min', '154 min', '127 min', '146 min', '136 min', '88 min',\n",
              "       '131 min', '24 min', '112 min', '74 min', '63 min', '38 min',\n",
              "       '25 min', '174 min', '60 min', '153 min', '158 min', '151 min',\n",
              "       '162 min', '54 min', '51 min', '69 min', '64 min', '147 min',\n",
              "       '42 min', '79 min', '5 Seasons', '40 min', '45 min', '172 min',\n",
              "       '10 min', '163 min', '9 Seasons', '55 min', '72 min', '61 min',\n",
              "       '71 min', '160 min', '171 min', '48 min', '139 min', '157 min',\n",
              "       '15 min', '65 min', '134 min', '161 min', '62 min', '8 Seasons',\n",
              "       '186 min', '49 min', '73 min', '58 min', '165 min', '166 min',\n",
              "       '138 min', '159 min', '141 min', '132 min', '52 min', '67 min',\n",
              "       '34 min', '66 min', '312 min', '180 min', '47 min', '6 Seasons',\n",
              "       '155 min', '14 min', '177 min', '11 min', '9 min', '46 min',\n",
              "       '145 min', '11 Seasons', '7 Seasons', '13 Seasons', '8 min',\n",
              "       '12 min', '12 Seasons', '10 Seasons', '43 min', '50 min', '23 min',\n",
              "       '185 min', '200 min', '169 min', '27 min', '170 min', '196 min',\n",
              "       '33 min', '181 min', '204 min', '32 min', '35 min', '167 min',\n",
              "       '16 Seasons', '179 min', '193 min', '13 min', '214 min', '17 min',\n",
              "       '173 min', '192 min', '209 min', '187 min', '41 min', '182 min',\n",
              "       '224 min', '233 min', '189 min', '152 min', '19 min', '15 Seasons',\n",
              "       '208 min', '237 min', '31 min', '178 min', '230 min', '194 min',\n",
              "       '228 min', '195 min', '3 min', '16 min', '5 min', '18 min',\n",
              "       '205 min', '190 min', '36 min', '201 min', '253 min', '203 min',\n",
              "       '191 min'], dtype=object)"
            ]
          },
          "execution_count": 223,
          "metadata": {},
          "output_type": "execute_result"
        }
      ],
      "source": [
        "data.Duration.unique()"
      ]
    },
    {
      "cell_type": "code",
      "execution_count": null,
      "id": "f626f0aa-af9e-4ada-b533-5a1212ff93a0",
      "metadata": {
        "id": "f626f0aa-af9e-4ada-b533-5a1212ff93a0"
      },
      "outputs": [],
      "source": [
        "data[['Time_taken' , 'unit']] = data.Duration.str.split(' ' ,expand = True)"
      ]
    },
    {
      "cell_type": "code",
      "execution_count": null,
      "id": "dbb05693-27e2-4eaa-8c48-503f60621fa1",
      "metadata": {
        "id": "dbb05693-27e2-4eaa-8c48-503f60621fa1",
        "outputId": "e693fd75-2c47-4b78-cdf2-d9583cf94811"
      },
      "outputs": [
        {
          "data": {
            "text/html": [
              "<div>\n",
              "<style scoped>\n",
              "    .dataframe tbody tr th:only-of-type {\n",
              "        vertical-align: middle;\n",
              "    }\n",
              "\n",
              "    .dataframe tbody tr th {\n",
              "        vertical-align: top;\n",
              "    }\n",
              "\n",
              "    .dataframe thead th {\n",
              "        text-align: right;\n",
              "    }\n",
              "</style>\n",
              "<table border=\"1\" class=\"dataframe\">\n",
              "  <thead>\n",
              "    <tr style=\"text-align: right;\">\n",
              "      <th></th>\n",
              "      <th>Show_Id</th>\n",
              "      <th>Category</th>\n",
              "      <th>Title</th>\n",
              "      <th>Director</th>\n",
              "      <th>Cast</th>\n",
              "      <th>Country</th>\n",
              "      <th>Release_Date</th>\n",
              "      <th>Rating</th>\n",
              "      <th>Duration</th>\n",
              "      <th>Type</th>\n",
              "      <th>Description</th>\n",
              "      <th>Release_year</th>\n",
              "      <th>Time_taken</th>\n",
              "      <th>unit</th>\n",
              "    </tr>\n",
              "  </thead>\n",
              "  <tbody>\n",
              "    <tr>\n",
              "      <th>0</th>\n",
              "      <td>s1</td>\n",
              "      <td>TV Show</td>\n",
              "      <td>3%</td>\n",
              "      <td>NaN</td>\n",
              "      <td>João Miguel, Bianca Comparato, Michel Gomes, R...</td>\n",
              "      <td>Brazil</td>\n",
              "      <td>August 14, 2020</td>\n",
              "      <td>TV-MA</td>\n",
              "      <td>4 Seasons</td>\n",
              "      <td>International TV Shows, TV Dramas, TV Sci-Fi &amp;...</td>\n",
              "      <td>In a future where the elite inhabit an island ...</td>\n",
              "      <td>2020.0</td>\n",
              "      <td>4</td>\n",
              "      <td>Seasons</td>\n",
              "    </tr>\n",
              "    <tr>\n",
              "      <th>1</th>\n",
              "      <td>s2</td>\n",
              "      <td>Movie</td>\n",
              "      <td>07:19</td>\n",
              "      <td>Jorge Michel Grau</td>\n",
              "      <td>Demián Bichir, Héctor Bonilla, Oscar Serrano, ...</td>\n",
              "      <td>Mexico</td>\n",
              "      <td>December 23, 2016</td>\n",
              "      <td>TV-MA</td>\n",
              "      <td>93 min</td>\n",
              "      <td>Dramas, International Movies</td>\n",
              "      <td>After a devastating earthquake hits Mexico Cit...</td>\n",
              "      <td>2016.0</td>\n",
              "      <td>93</td>\n",
              "      <td>min</td>\n",
              "    </tr>\n",
              "    <tr>\n",
              "      <th>2</th>\n",
              "      <td>s3</td>\n",
              "      <td>Movie</td>\n",
              "      <td>23:59</td>\n",
              "      <td>Gilbert Chan</td>\n",
              "      <td>Tedd Chan, Stella Chung, Henley Hii, Lawrence ...</td>\n",
              "      <td>Singapore</td>\n",
              "      <td>December 20, 2018</td>\n",
              "      <td>R</td>\n",
              "      <td>78 min</td>\n",
              "      <td>Horror Movies, International Movies</td>\n",
              "      <td>When an army recruit is found dead, his fellow...</td>\n",
              "      <td>2018.0</td>\n",
              "      <td>78</td>\n",
              "      <td>min</td>\n",
              "    </tr>\n",
              "    <tr>\n",
              "      <th>3</th>\n",
              "      <td>s4</td>\n",
              "      <td>Movie</td>\n",
              "      <td>9</td>\n",
              "      <td>Shane Acker</td>\n",
              "      <td>Elijah Wood, John C. Reilly, Jennifer Connelly...</td>\n",
              "      <td>United States</td>\n",
              "      <td>November 16, 2017</td>\n",
              "      <td>PG-13</td>\n",
              "      <td>80 min</td>\n",
              "      <td>Action &amp; Adventure, Independent Movies, Sci-Fi...</td>\n",
              "      <td>In a postapocalyptic world, rag-doll robots hi...</td>\n",
              "      <td>2017.0</td>\n",
              "      <td>80</td>\n",
              "      <td>min</td>\n",
              "    </tr>\n",
              "    <tr>\n",
              "      <th>4</th>\n",
              "      <td>s5</td>\n",
              "      <td>Movie</td>\n",
              "      <td>21</td>\n",
              "      <td>Robert Luketic</td>\n",
              "      <td>Jim Sturgess, Kevin Spacey, Kate Bosworth, Aar...</td>\n",
              "      <td>United States</td>\n",
              "      <td>January 1, 2020</td>\n",
              "      <td>PG-13</td>\n",
              "      <td>123 min</td>\n",
              "      <td>Dramas</td>\n",
              "      <td>A brilliant group of students become card-coun...</td>\n",
              "      <td>2020.0</td>\n",
              "      <td>123</td>\n",
              "      <td>min</td>\n",
              "    </tr>\n",
              "  </tbody>\n",
              "</table>\n",
              "</div>"
            ],
            "text/plain": [
              "  Show_Id Category  Title           Director  \\\n",
              "0      s1  TV Show     3%                NaN   \n",
              "1      s2    Movie  07:19  Jorge Michel Grau   \n",
              "2      s3    Movie  23:59       Gilbert Chan   \n",
              "3      s4    Movie      9        Shane Acker   \n",
              "4      s5    Movie     21     Robert Luketic   \n",
              "\n",
              "                                                Cast        Country  \\\n",
              "0  João Miguel, Bianca Comparato, Michel Gomes, R...         Brazil   \n",
              "1  Demián Bichir, Héctor Bonilla, Oscar Serrano, ...         Mexico   \n",
              "2  Tedd Chan, Stella Chung, Henley Hii, Lawrence ...      Singapore   \n",
              "3  Elijah Wood, John C. Reilly, Jennifer Connelly...  United States   \n",
              "4  Jim Sturgess, Kevin Spacey, Kate Bosworth, Aar...  United States   \n",
              "\n",
              "        Release_Date Rating   Duration  \\\n",
              "0    August 14, 2020  TV-MA  4 Seasons   \n",
              "1  December 23, 2016  TV-MA     93 min   \n",
              "2  December 20, 2018      R     78 min   \n",
              "3  November 16, 2017  PG-13     80 min   \n",
              "4    January 1, 2020  PG-13    123 min   \n",
              "\n",
              "                                                Type  \\\n",
              "0  International TV Shows, TV Dramas, TV Sci-Fi &...   \n",
              "1                       Dramas, International Movies   \n",
              "2                Horror Movies, International Movies   \n",
              "3  Action & Adventure, Independent Movies, Sci-Fi...   \n",
              "4                                             Dramas   \n",
              "\n",
              "                                         Description  Release_year Time_taken  \\\n",
              "0  In a future where the elite inhabit an island ...        2020.0          4   \n",
              "1  After a devastating earthquake hits Mexico Cit...        2016.0         93   \n",
              "2  When an army recruit is found dead, his fellow...        2018.0         78   \n",
              "3  In a postapocalyptic world, rag-doll robots hi...        2017.0         80   \n",
              "4  A brilliant group of students become card-coun...        2020.0        123   \n",
              "\n",
              "      unit  \n",
              "0  Seasons  \n",
              "1      min  \n",
              "2      min  \n",
              "3      min  \n",
              "4      min  "
            ]
          },
          "execution_count": 227,
          "metadata": {},
          "output_type": "execute_result"
        }
      ],
      "source": [
        "data.head()"
      ]
    },
    {
      "cell_type": "code",
      "execution_count": null,
      "id": "48b8c1f1-0113-4d8c-8de4-4b6e2000b156",
      "metadata": {
        "id": "48b8c1f1-0113-4d8c-8de4-4b6e2000b156",
        "outputId": "4c26b6ac-1377-461f-b740-0c80955b832c"
      },
      "outputs": [
        {
          "data": {
            "text/plain": [
              "312"
            ]
          },
          "execution_count": 229,
          "metadata": {},
          "output_type": "execute_result"
        }
      ],
      "source": [
        "data['Time_taken'] = pd.to_numeric(data['Time_taken'])\n",
        "data['Time_taken'].max()"
      ]
    },
    {
      "cell_type": "markdown",
      "id": "89c8f044-194a-467f-926c-426e0a921fa5",
      "metadata": {
        "id": "89c8f044-194a-467f-926c-426e0a921fa5"
      },
      "source": [
        "21.\tWhich individual country has the Highest No. of TV Shows?"
      ]
    },
    {
      "cell_type": "code",
      "execution_count": null,
      "id": "7fb7cc2a-99af-48c7-b53d-f28be35ccd2a",
      "metadata": {
        "id": "7fb7cc2a-99af-48c7-b53d-f28be35ccd2a",
        "outputId": "ea5aafa9-3613-4729-d9d9-950acd870958"
      },
      "outputs": [
        {
          "data": {
            "text/plain": [
              "Country\n",
              "United States    705\n",
              "Name: count, dtype: int64"
            ]
          },
          "execution_count": 232,
          "metadata": {},
          "output_type": "execute_result"
        }
      ],
      "source": [
        "data[data.Category == 'TV Show']['Country'].value_counts().head(1)"
      ]
    },
    {
      "cell_type": "markdown",
      "id": "faa7dd39-f8a0-4d66-a71d-f957da3bb118",
      "metadata": {
        "id": "faa7dd39-f8a0-4d66-a71d-f957da3bb118"
      },
      "source": [
        "22.\tHow can we sort the dataset by Year?"
      ]
    },
    {
      "cell_type": "code",
      "execution_count": null,
      "id": "d4b99774-8e72-4c07-8017-c7955908c545",
      "metadata": {
        "id": "d4b99774-8e72-4c07-8017-c7955908c545",
        "outputId": "770af7ed-86c0-4259-94b6-c6a4c8c2e7a2"
      },
      "outputs": [
        {
          "data": {
            "text/html": [
              "<div>\n",
              "<style scoped>\n",
              "    .dataframe tbody tr th:only-of-type {\n",
              "        vertical-align: middle;\n",
              "    }\n",
              "\n",
              "    .dataframe tbody tr th {\n",
              "        vertical-align: top;\n",
              "    }\n",
              "\n",
              "    .dataframe thead th {\n",
              "        text-align: right;\n",
              "    }\n",
              "</style>\n",
              "<table border=\"1\" class=\"dataframe\">\n",
              "  <thead>\n",
              "    <tr style=\"text-align: right;\">\n",
              "      <th></th>\n",
              "      <th>Show_Id</th>\n",
              "      <th>Category</th>\n",
              "      <th>Title</th>\n",
              "      <th>Director</th>\n",
              "      <th>Cast</th>\n",
              "      <th>Country</th>\n",
              "      <th>Release_Date</th>\n",
              "      <th>Rating</th>\n",
              "      <th>Duration</th>\n",
              "      <th>Type</th>\n",
              "      <th>Description</th>\n",
              "      <th>Release_year</th>\n",
              "      <th>Time_taken</th>\n",
              "      <th>unit</th>\n",
              "    </tr>\n",
              "  </thead>\n",
              "  <tbody>\n",
              "    <tr>\n",
              "      <th>7113</th>\n",
              "      <td>s7114</td>\n",
              "      <td>Movie</td>\n",
              "      <td>To and From New York</td>\n",
              "      <td>Sorin Dan Mihalcescu</td>\n",
              "      <td>Barbara King, Shaana Diya, John Krisiukenas, Y...</td>\n",
              "      <td>United States</td>\n",
              "      <td>January 1, 2008</td>\n",
              "      <td>TV-MA</td>\n",
              "      <td>81 min</td>\n",
              "      <td>Dramas, Independent Movies, Thrillers</td>\n",
              "      <td>While covering a story in New York City, a Sea...</td>\n",
              "      <td>2008.0</td>\n",
              "      <td>81</td>\n",
              "      <td>min</td>\n",
              "    </tr>\n",
              "    <tr>\n",
              "      <th>1765</th>\n",
              "      <td>s1766</td>\n",
              "      <td>TV Show</td>\n",
              "      <td>Dinner for Five</td>\n",
              "      <td>NaN</td>\n",
              "      <td>NaN</td>\n",
              "      <td>United States</td>\n",
              "      <td>February 4, 2008</td>\n",
              "      <td>TV-MA</td>\n",
              "      <td>1 Season</td>\n",
              "      <td>Stand-Up Comedy &amp; Talk Shows</td>\n",
              "      <td>In each episode, four celebrities join host Jo...</td>\n",
              "      <td>2008.0</td>\n",
              "      <td>1</td>\n",
              "      <td>Season</td>\n",
              "    </tr>\n",
              "    <tr>\n",
              "      <th>3248</th>\n",
              "      <td>s3249</td>\n",
              "      <td>Movie</td>\n",
              "      <td>Just Another Love Story</td>\n",
              "      <td>Ole Bornedal</td>\n",
              "      <td>Anders W. Berthelsen, Rebecka Hemse, Nikolaj L...</td>\n",
              "      <td>Denmark</td>\n",
              "      <td>May 5, 2009</td>\n",
              "      <td>TV-MA</td>\n",
              "      <td>104 min</td>\n",
              "      <td>Dramas, International Movies</td>\n",
              "      <td>When he causes a car accident that leaves a yo...</td>\n",
              "      <td>2009.0</td>\n",
              "      <td>104</td>\n",
              "      <td>min</td>\n",
              "    </tr>\n",
              "    <tr>\n",
              "      <th>5766</th>\n",
              "      <td>s5766</td>\n",
              "      <td>Movie</td>\n",
              "      <td>Splatter</td>\n",
              "      <td>Joe Dante</td>\n",
              "      <td>Corey Feldman, Tony Todd, Tara Leigh, Erin Way...</td>\n",
              "      <td>United States</td>\n",
              "      <td>November 18, 2009</td>\n",
              "      <td>TV-MA</td>\n",
              "      <td>29 min</td>\n",
              "      <td>Horror Movies</td>\n",
              "      <td>After committing suicide, a washed-up rocker r...</td>\n",
              "      <td>2009.0</td>\n",
              "      <td>29</td>\n",
              "      <td>min</td>\n",
              "    </tr>\n",
              "    <tr>\n",
              "      <th>3840</th>\n",
              "      <td>s3841</td>\n",
              "      <td>Movie</td>\n",
              "      <td>Mad Ron's Prevues from Hell</td>\n",
              "      <td>Jim Monaco</td>\n",
              "      <td>Nick Pawlow, Jordu Schell, Jay Kushwara, Micha...</td>\n",
              "      <td>United States</td>\n",
              "      <td>November 1, 2010</td>\n",
              "      <td>NR</td>\n",
              "      <td>84 min</td>\n",
              "      <td>Cult Movies, Horror Movies</td>\n",
              "      <td>This collection cherry-picks trailers, forgott...</td>\n",
              "      <td>2010.0</td>\n",
              "      <td>84</td>\n",
              "      <td>min</td>\n",
              "    </tr>\n",
              "    <tr>\n",
              "      <th>...</th>\n",
              "      <td>...</td>\n",
              "      <td>...</td>\n",
              "      <td>...</td>\n",
              "      <td>...</td>\n",
              "      <td>...</td>\n",
              "      <td>...</td>\n",
              "      <td>...</td>\n",
              "      <td>...</td>\n",
              "      <td>...</td>\n",
              "      <td>...</td>\n",
              "      <td>...</td>\n",
              "      <td>...</td>\n",
              "      <td>...</td>\n",
              "      <td>...</td>\n",
              "    </tr>\n",
              "    <tr>\n",
              "      <th>3374</th>\n",
              "      <td>s3375</td>\n",
              "      <td>TV Show</td>\n",
              "      <td>Kikoriki</td>\n",
              "      <td>NaN</td>\n",
              "      <td>Igor Dmitriev</td>\n",
              "      <td>NaN</td>\n",
              "      <td>NaN</td>\n",
              "      <td>TV-Y</td>\n",
              "      <td>2 Seasons</td>\n",
              "      <td>Kids' TV</td>\n",
              "      <td>A wacky rabbit and his gang of animal pals hav...</td>\n",
              "      <td>NaN</td>\n",
              "      <td>2</td>\n",
              "      <td>Seasons</td>\n",
              "    </tr>\n",
              "    <tr>\n",
              "      <th>3492</th>\n",
              "      <td>s3493</td>\n",
              "      <td>TV Show</td>\n",
              "      <td>La Familia P. Luche</td>\n",
              "      <td>NaN</td>\n",
              "      <td>Eugenio Derbez, Consuelo Duval, Luis Manuel Áv...</td>\n",
              "      <td>United States</td>\n",
              "      <td>NaN</td>\n",
              "      <td>TV-14</td>\n",
              "      <td>3 Seasons</td>\n",
              "      <td>International TV Shows, Spanish-Language TV Sh...</td>\n",
              "      <td>This irreverent sitcom featues Ludovico, Feder...</td>\n",
              "      <td>NaN</td>\n",
              "      <td>3</td>\n",
              "      <td>Seasons</td>\n",
              "    </tr>\n",
              "    <tr>\n",
              "      <th>3946</th>\n",
              "      <td>s3947</td>\n",
              "      <td>TV Show</td>\n",
              "      <td>Maron</td>\n",
              "      <td>NaN</td>\n",
              "      <td>Marc Maron, Judd Hirsch, Josh Brener, Nora Zeh...</td>\n",
              "      <td>United States</td>\n",
              "      <td>NaN</td>\n",
              "      <td>TV-MA</td>\n",
              "      <td>4 Seasons</td>\n",
              "      <td>TV Comedies</td>\n",
              "      <td>Marc Maron stars as Marc Maron, who interviews...</td>\n",
              "      <td>NaN</td>\n",
              "      <td>4</td>\n",
              "      <td>Seasons</td>\n",
              "    </tr>\n",
              "    <tr>\n",
              "      <th>5138</th>\n",
              "      <td>s5138</td>\n",
              "      <td>TV Show</td>\n",
              "      <td>Red vs. Blue</td>\n",
              "      <td>NaN</td>\n",
              "      <td>Burnie Burns, Jason Saldaña, Gustavo Sorola, G...</td>\n",
              "      <td>United States</td>\n",
              "      <td>NaN</td>\n",
              "      <td>NR</td>\n",
              "      <td>13 Seasons</td>\n",
              "      <td>TV Action &amp; Adventure, TV Comedies, TV Sci-Fi ...</td>\n",
              "      <td>This parody of first-person shooter games, mil...</td>\n",
              "      <td>NaN</td>\n",
              "      <td>13</td>\n",
              "      <td>Seasons</td>\n",
              "    </tr>\n",
              "    <tr>\n",
              "      <th>6066</th>\n",
              "      <td>s6066</td>\n",
              "      <td>TV Show</td>\n",
              "      <td>The Adventures of Figaro Pho</td>\n",
              "      <td>NaN</td>\n",
              "      <td>Luke Jurevicius, Craig Behenna, Charlotte Haml...</td>\n",
              "      <td>Australia</td>\n",
              "      <td>NaN</td>\n",
              "      <td>TV-Y7</td>\n",
              "      <td>2 Seasons</td>\n",
              "      <td>Kids' TV, TV Comedies</td>\n",
              "      <td>Imagine your worst fears, then multiply them: ...</td>\n",
              "      <td>NaN</td>\n",
              "      <td>2</td>\n",
              "      <td>Seasons</td>\n",
              "    </tr>\n",
              "  </tbody>\n",
              "</table>\n",
              "<p>7787 rows × 14 columns</p>\n",
              "</div>"
            ],
            "text/plain": [
              "     Show_Id Category                         Title              Director  \\\n",
              "7113   s7114    Movie          To and From New York  Sorin Dan Mihalcescu   \n",
              "1765   s1766  TV Show               Dinner for Five                   NaN   \n",
              "3248   s3249    Movie       Just Another Love Story          Ole Bornedal   \n",
              "5766   s5766    Movie                      Splatter             Joe Dante   \n",
              "3840   s3841    Movie   Mad Ron's Prevues from Hell            Jim Monaco   \n",
              "...      ...      ...                           ...                   ...   \n",
              "3374   s3375  TV Show                      Kikoriki                   NaN   \n",
              "3492   s3493  TV Show           La Familia P. Luche                   NaN   \n",
              "3946   s3947  TV Show                         Maron                   NaN   \n",
              "5138   s5138  TV Show                  Red vs. Blue                   NaN   \n",
              "6066   s6066  TV Show  The Adventures of Figaro Pho                   NaN   \n",
              "\n",
              "                                                   Cast        Country  \\\n",
              "7113  Barbara King, Shaana Diya, John Krisiukenas, Y...  United States   \n",
              "1765                                                NaN  United States   \n",
              "3248  Anders W. Berthelsen, Rebecka Hemse, Nikolaj L...        Denmark   \n",
              "5766  Corey Feldman, Tony Todd, Tara Leigh, Erin Way...  United States   \n",
              "3840  Nick Pawlow, Jordu Schell, Jay Kushwara, Micha...  United States   \n",
              "...                                                 ...            ...   \n",
              "3374                                      Igor Dmitriev            NaN   \n",
              "3492  Eugenio Derbez, Consuelo Duval, Luis Manuel Áv...  United States   \n",
              "3946  Marc Maron, Judd Hirsch, Josh Brener, Nora Zeh...  United States   \n",
              "5138  Burnie Burns, Jason Saldaña, Gustavo Sorola, G...  United States   \n",
              "6066  Luke Jurevicius, Craig Behenna, Charlotte Haml...      Australia   \n",
              "\n",
              "           Release_Date Rating    Duration  \\\n",
              "7113    January 1, 2008  TV-MA      81 min   \n",
              "1765   February 4, 2008  TV-MA    1 Season   \n",
              "3248        May 5, 2009  TV-MA     104 min   \n",
              "5766  November 18, 2009  TV-MA      29 min   \n",
              "3840   November 1, 2010     NR      84 min   \n",
              "...                 ...    ...         ...   \n",
              "3374                NaN   TV-Y   2 Seasons   \n",
              "3492                NaN  TV-14   3 Seasons   \n",
              "3946                NaN  TV-MA   4 Seasons   \n",
              "5138                NaN     NR  13 Seasons   \n",
              "6066                NaN  TV-Y7   2 Seasons   \n",
              "\n",
              "                                                   Type  \\\n",
              "7113              Dramas, Independent Movies, Thrillers   \n",
              "1765                       Stand-Up Comedy & Talk Shows   \n",
              "3248                       Dramas, International Movies   \n",
              "5766                                      Horror Movies   \n",
              "3840                         Cult Movies, Horror Movies   \n",
              "...                                                 ...   \n",
              "3374                                           Kids' TV   \n",
              "3492  International TV Shows, Spanish-Language TV Sh...   \n",
              "3946                                        TV Comedies   \n",
              "5138  TV Action & Adventure, TV Comedies, TV Sci-Fi ...   \n",
              "6066                              Kids' TV, TV Comedies   \n",
              "\n",
              "                                            Description  Release_year  \\\n",
              "7113  While covering a story in New York City, a Sea...        2008.0   \n",
              "1765  In each episode, four celebrities join host Jo...        2008.0   \n",
              "3248  When he causes a car accident that leaves a yo...        2009.0   \n",
              "5766  After committing suicide, a washed-up rocker r...        2009.0   \n",
              "3840  This collection cherry-picks trailers, forgott...        2010.0   \n",
              "...                                                 ...           ...   \n",
              "3374  A wacky rabbit and his gang of animal pals hav...           NaN   \n",
              "3492  This irreverent sitcom featues Ludovico, Feder...           NaN   \n",
              "3946  Marc Maron stars as Marc Maron, who interviews...           NaN   \n",
              "5138  This parody of first-person shooter games, mil...           NaN   \n",
              "6066  Imagine your worst fears, then multiply them: ...           NaN   \n",
              "\n",
              "      Time_taken     unit  \n",
              "7113          81      min  \n",
              "1765           1   Season  \n",
              "3248         104      min  \n",
              "5766          29      min  \n",
              "3840          84      min  \n",
              "...          ...      ...  \n",
              "3374           2  Seasons  \n",
              "3492           3  Seasons  \n",
              "3946           4  Seasons  \n",
              "5138          13  Seasons  \n",
              "6066           2  Seasons  \n",
              "\n",
              "[7787 rows x 14 columns]"
            ]
          },
          "execution_count": 235,
          "metadata": {},
          "output_type": "execute_result"
        }
      ],
      "source": [
        "data.sort_values(by = 'Release_year')"
      ]
    },
    {
      "cell_type": "markdown",
      "id": "7d2b51c2-6a8b-4a60-a802-5447cd0c4df1",
      "metadata": {
        "id": "7d2b51c2-6a8b-4a60-a802-5447cd0c4df1"
      },
      "source": [
        "23.\tFind all the instances where : Category is 'Movie' and Type is 'Dramas' or Category is 'TV Show' & Type is 'Kids' TV' ?"
      ]
    },
    {
      "cell_type": "code",
      "execution_count": null,
      "id": "b5c8bc3a-cec3-42ea-8519-a5f2cf0293de",
      "metadata": {
        "id": "b5c8bc3a-cec3-42ea-8519-a5f2cf0293de",
        "outputId": "bd49655a-e20a-4692-da46-891adb9629af"
      },
      "outputs": [
        {
          "data": {
            "text/html": [
              "<div>\n",
              "<style scoped>\n",
              "    .dataframe tbody tr th:only-of-type {\n",
              "        vertical-align: middle;\n",
              "    }\n",
              "\n",
              "    .dataframe tbody tr th {\n",
              "        vertical-align: top;\n",
              "    }\n",
              "\n",
              "    .dataframe thead th {\n",
              "        text-align: right;\n",
              "    }\n",
              "</style>\n",
              "<table border=\"1\" class=\"dataframe\">\n",
              "  <thead>\n",
              "    <tr style=\"text-align: right;\">\n",
              "      <th></th>\n",
              "      <th>Show_Id</th>\n",
              "      <th>Category</th>\n",
              "      <th>Title</th>\n",
              "      <th>Director</th>\n",
              "      <th>Cast</th>\n",
              "      <th>Country</th>\n",
              "      <th>Release_Date</th>\n",
              "      <th>Rating</th>\n",
              "      <th>Duration</th>\n",
              "      <th>Type</th>\n",
              "      <th>Description</th>\n",
              "      <th>Release_year</th>\n",
              "      <th>Time_taken</th>\n",
              "      <th>unit</th>\n",
              "    </tr>\n",
              "  </thead>\n",
              "  <tbody>\n",
              "    <tr>\n",
              "      <th>4</th>\n",
              "      <td>s5</td>\n",
              "      <td>Movie</td>\n",
              "      <td>21</td>\n",
              "      <td>Robert Luketic</td>\n",
              "      <td>Jim Sturgess, Kevin Spacey, Kate Bosworth, Aar...</td>\n",
              "      <td>United States</td>\n",
              "      <td>January 1, 2020</td>\n",
              "      <td>PG-13</td>\n",
              "      <td>123 min</td>\n",
              "      <td>Dramas</td>\n",
              "      <td>A brilliant group of students become card-coun...</td>\n",
              "      <td>2020.0</td>\n",
              "      <td>123</td>\n",
              "      <td>min</td>\n",
              "    </tr>\n",
              "    <tr>\n",
              "      <th>7</th>\n",
              "      <td>s8</td>\n",
              "      <td>Movie</td>\n",
              "      <td>187</td>\n",
              "      <td>Kevin Reynolds</td>\n",
              "      <td>Samuel L. Jackson, John Heard, Kelly Rowan, Cl...</td>\n",
              "      <td>United States</td>\n",
              "      <td>November 1, 2019</td>\n",
              "      <td>R</td>\n",
              "      <td>119 min</td>\n",
              "      <td>Dramas</td>\n",
              "      <td>After one of his high school students attacks ...</td>\n",
              "      <td>2019.0</td>\n",
              "      <td>119</td>\n",
              "      <td>min</td>\n",
              "    </tr>\n",
              "    <tr>\n",
              "      <th>170</th>\n",
              "      <td>s171</td>\n",
              "      <td>Movie</td>\n",
              "      <td>A Family Man</td>\n",
              "      <td>Mark Williams</td>\n",
              "      <td>Gerard Butler, Gretchen Mol, Alison Brie, Will...</td>\n",
              "      <td>Canada, United States</td>\n",
              "      <td>December 15, 2019</td>\n",
              "      <td>R</td>\n",
              "      <td>110 min</td>\n",
              "      <td>Dramas</td>\n",
              "      <td>A ruthless corporate headhunter battles his ri...</td>\n",
              "      <td>2019.0</td>\n",
              "      <td>110</td>\n",
              "      <td>min</td>\n",
              "    </tr>\n",
              "    <tr>\n",
              "      <th>232</th>\n",
              "      <td>s233</td>\n",
              "      <td>Movie</td>\n",
              "      <td>A Stoning in Fulham County</td>\n",
              "      <td>Larry Elikann</td>\n",
              "      <td>Ken Olin, Jill Eikenberry, Maureen Mueller, Gr...</td>\n",
              "      <td>United States</td>\n",
              "      <td>October 1, 2011</td>\n",
              "      <td>TV-14</td>\n",
              "      <td>95 min</td>\n",
              "      <td>Dramas</td>\n",
              "      <td>After reckless teens kill an Amish child, a pr...</td>\n",
              "      <td>2011.0</td>\n",
              "      <td>95</td>\n",
              "      <td>min</td>\n",
              "    </tr>\n",
              "    <tr>\n",
              "      <th>295</th>\n",
              "      <td>s296</td>\n",
              "      <td>Movie</td>\n",
              "      <td>Across Grace Alley</td>\n",
              "      <td>Ralph Macchio</td>\n",
              "      <td>Ben Hyland, Marsha Mason, Karina Smirnoff, Col...</td>\n",
              "      <td>United States</td>\n",
              "      <td>December 1, 2016</td>\n",
              "      <td>TV-PG</td>\n",
              "      <td>24 min</td>\n",
              "      <td>Dramas</td>\n",
              "      <td>A young boy, upset by his parents' divorce, be...</td>\n",
              "      <td>2016.0</td>\n",
              "      <td>24</td>\n",
              "      <td>min</td>\n",
              "    </tr>\n",
              "    <tr>\n",
              "      <th>...</th>\n",
              "      <td>...</td>\n",
              "      <td>...</td>\n",
              "      <td>...</td>\n",
              "      <td>...</td>\n",
              "      <td>...</td>\n",
              "      <td>...</td>\n",
              "      <td>...</td>\n",
              "      <td>...</td>\n",
              "      <td>...</td>\n",
              "      <td>...</td>\n",
              "      <td>...</td>\n",
              "      <td>...</td>\n",
              "      <td>...</td>\n",
              "      <td>...</td>\n",
              "    </tr>\n",
              "    <tr>\n",
              "      <th>7415</th>\n",
              "      <td>s7416</td>\n",
              "      <td>Movie</td>\n",
              "      <td>Victor</td>\n",
              "      <td>Brandon Dickerson</td>\n",
              "      <td>Patrick Davis, Lisa Vidal, Josh Pence, José Zú...</td>\n",
              "      <td>United States</td>\n",
              "      <td>July 24, 2017</td>\n",
              "      <td>PG-13</td>\n",
              "      <td>110 min</td>\n",
              "      <td>Dramas</td>\n",
              "      <td>In 1962 Brooklyn, a Puerto Rican teen who join...</td>\n",
              "      <td>2017.0</td>\n",
              "      <td>110</td>\n",
              "      <td>min</td>\n",
              "    </tr>\n",
              "    <tr>\n",
              "      <th>7420</th>\n",
              "      <td>s7421</td>\n",
              "      <td>Movie</td>\n",
              "      <td>Villain</td>\n",
              "      <td>Philip Barantini</td>\n",
              "      <td>Craig Fairbrass, George Russo, Robert Gleniste...</td>\n",
              "      <td>United Kingdom</td>\n",
              "      <td>September 5, 2020</td>\n",
              "      <td>R</td>\n",
              "      <td>97 min</td>\n",
              "      <td>Dramas</td>\n",
              "      <td>Fresh out of prison, an ex-con tries to save h...</td>\n",
              "      <td>2020.0</td>\n",
              "      <td>97</td>\n",
              "      <td>min</td>\n",
              "    </tr>\n",
              "    <tr>\n",
              "      <th>7447</th>\n",
              "      <td>s7448</td>\n",
              "      <td>Movie</td>\n",
              "      <td>VS.</td>\n",
              "      <td>Ed Lilly</td>\n",
              "      <td>Connor Swindells, Fola Evans-Akingbola, Nichol...</td>\n",
              "      <td>United Kingdom</td>\n",
              "      <td>June 19, 2019</td>\n",
              "      <td>TV-MA</td>\n",
              "      <td>99 min</td>\n",
              "      <td>Dramas</td>\n",
              "      <td>A young man in foster care finds his voice in ...</td>\n",
              "      <td>2019.0</td>\n",
              "      <td>99</td>\n",
              "      <td>min</td>\n",
              "    </tr>\n",
              "    <tr>\n",
              "      <th>7463</th>\n",
              "      <td>s7464</td>\n",
              "      <td>Movie</td>\n",
              "      <td>Wakefield</td>\n",
              "      <td>Robin Swicord</td>\n",
              "      <td>Bryan Cranston, Jennifer Garner, Jason O'Mara,...</td>\n",
              "      <td>United States</td>\n",
              "      <td>March 2, 2019</td>\n",
              "      <td>R</td>\n",
              "      <td>109 min</td>\n",
              "      <td>Dramas</td>\n",
              "      <td>An unhappy father and lawyer quits his suburba...</td>\n",
              "      <td>2019.0</td>\n",
              "      <td>109</td>\n",
              "      <td>min</td>\n",
              "    </tr>\n",
              "    <tr>\n",
              "      <th>7478</th>\n",
              "      <td>s7479</td>\n",
              "      <td>Movie</td>\n",
              "      <td>War Horse</td>\n",
              "      <td>Steven Spielberg</td>\n",
              "      <td>Emily Watson, David Thewlis, Peter Mullan, Nie...</td>\n",
              "      <td>United States, India</td>\n",
              "      <td>May 6, 2019</td>\n",
              "      <td>PG-13</td>\n",
              "      <td>147 min</td>\n",
              "      <td>Dramas</td>\n",
              "      <td>During World War I, the bond between a young E...</td>\n",
              "      <td>2019.0</td>\n",
              "      <td>147</td>\n",
              "      <td>min</td>\n",
              "    </tr>\n",
              "  </tbody>\n",
              "</table>\n",
              "<p>117 rows × 14 columns</p>\n",
              "</div>"
            ],
            "text/plain": [
              "     Show_Id Category                       Title           Director  \\\n",
              "4         s5    Movie                          21     Robert Luketic   \n",
              "7         s8    Movie                         187     Kevin Reynolds   \n",
              "170     s171    Movie                A Family Man      Mark Williams   \n",
              "232     s233    Movie  A Stoning in Fulham County      Larry Elikann   \n",
              "295     s296    Movie          Across Grace Alley      Ralph Macchio   \n",
              "...      ...      ...                         ...                ...   \n",
              "7415   s7416    Movie                      Victor  Brandon Dickerson   \n",
              "7420   s7421    Movie                     Villain   Philip Barantini   \n",
              "7447   s7448    Movie                         VS.           Ed Lilly   \n",
              "7463   s7464    Movie                   Wakefield      Robin Swicord   \n",
              "7478   s7479    Movie                   War Horse   Steven Spielberg   \n",
              "\n",
              "                                                   Cast  \\\n",
              "4     Jim Sturgess, Kevin Spacey, Kate Bosworth, Aar...   \n",
              "7     Samuel L. Jackson, John Heard, Kelly Rowan, Cl...   \n",
              "170   Gerard Butler, Gretchen Mol, Alison Brie, Will...   \n",
              "232   Ken Olin, Jill Eikenberry, Maureen Mueller, Gr...   \n",
              "295   Ben Hyland, Marsha Mason, Karina Smirnoff, Col...   \n",
              "...                                                 ...   \n",
              "7415  Patrick Davis, Lisa Vidal, Josh Pence, José Zú...   \n",
              "7420  Craig Fairbrass, George Russo, Robert Gleniste...   \n",
              "7447  Connor Swindells, Fola Evans-Akingbola, Nichol...   \n",
              "7463  Bryan Cranston, Jennifer Garner, Jason O'Mara,...   \n",
              "7478  Emily Watson, David Thewlis, Peter Mullan, Nie...   \n",
              "\n",
              "                    Country       Release_Date Rating Duration    Type  \\\n",
              "4             United States    January 1, 2020  PG-13  123 min  Dramas   \n",
              "7             United States   November 1, 2019      R  119 min  Dramas   \n",
              "170   Canada, United States  December 15, 2019      R  110 min  Dramas   \n",
              "232           United States    October 1, 2011  TV-14   95 min  Dramas   \n",
              "295           United States   December 1, 2016  TV-PG   24 min  Dramas   \n",
              "...                     ...                ...    ...      ...     ...   \n",
              "7415          United States      July 24, 2017  PG-13  110 min  Dramas   \n",
              "7420         United Kingdom  September 5, 2020      R   97 min  Dramas   \n",
              "7447         United Kingdom      June 19, 2019  TV-MA   99 min  Dramas   \n",
              "7463          United States      March 2, 2019      R  109 min  Dramas   \n",
              "7478   United States, India        May 6, 2019  PG-13  147 min  Dramas   \n",
              "\n",
              "                                            Description  Release_year  \\\n",
              "4     A brilliant group of students become card-coun...        2020.0   \n",
              "7     After one of his high school students attacks ...        2019.0   \n",
              "170   A ruthless corporate headhunter battles his ri...        2019.0   \n",
              "232   After reckless teens kill an Amish child, a pr...        2011.0   \n",
              "295   A young boy, upset by his parents' divorce, be...        2016.0   \n",
              "...                                                 ...           ...   \n",
              "7415  In 1962 Brooklyn, a Puerto Rican teen who join...        2017.0   \n",
              "7420  Fresh out of prison, an ex-con tries to save h...        2020.0   \n",
              "7447  A young man in foster care finds his voice in ...        2019.0   \n",
              "7463  An unhappy father and lawyer quits his suburba...        2019.0   \n",
              "7478  During World War I, the bond between a young E...        2019.0   \n",
              "\n",
              "      Time_taken unit  \n",
              "4            123  min  \n",
              "7            119  min  \n",
              "170          110  min  \n",
              "232           95  min  \n",
              "295           24  min  \n",
              "...          ...  ...  \n",
              "7415         110  min  \n",
              "7420          97  min  \n",
              "7447          99  min  \n",
              "7463         109  min  \n",
              "7478         147  min  \n",
              "\n",
              "[117 rows x 14 columns]"
            ]
          },
          "execution_count": 238,
          "metadata": {},
          "output_type": "execute_result"
        }
      ],
      "source": [
        "data[((data.Category == 'Movie')&(data.Type =='Dramas'))|((data.Category == 'TV Show')&(data.Type =='Kids'))]"
      ]
    },
    {
      "cell_type": "code",
      "execution_count": null,
      "id": "38fad68a-43e3-4873-bc8d-5c446652f858",
      "metadata": {
        "id": "38fad68a-43e3-4873-bc8d-5c446652f858"
      },
      "outputs": [],
      "source": []
    }
  ],
  "metadata": {
    "kernelspec": {
      "display_name": "Python 3 (ipykernel)",
      "language": "python",
      "name": "python3"
    },
    "language_info": {
      "codemirror_mode": {
        "name": "ipython",
        "version": 3
      },
      "file_extension": ".py",
      "mimetype": "text/x-python",
      "name": "python",
      "nbconvert_exporter": "python",
      "pygments_lexer": "ipython3",
      "version": "3.12.4"
    },
    "colab": {
      "provenance": [],
      "include_colab_link": true
    }
  },
  "nbformat": 4,
  "nbformat_minor": 5
}